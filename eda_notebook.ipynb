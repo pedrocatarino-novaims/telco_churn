{
 "cells": [
  {
   "cell_type": "code",
   "execution_count": 3,
   "id": "f7c4907d",
   "metadata": {},
   "outputs": [],
   "source": [
    "import pandas as pd\n",
    "\n",
    "df_demographics = pd.read_excel(\n",
    "    r\"C:\\\\Users\\pedro\\Projects\\ims_bootcamp\\data\\Telco_customer_churn_demographics.xlsx\")\n",
    "\n",
    "df_location = pd.read_excel(\n",
    "    r\"C:\\\\Users\\pedro\\Projects\\ims_bootcamp\\data\\Telco_customer_churn_location.xlsx\")\n",
    "\n",
    "df_population = pd.read_excel(\n",
    "    r\"C:\\\\Users\\pedro\\Projects\\ims_bootcamp\\data\\Telco_customer_churn_population.xlsx\")\n",
    "\n",
    "df_services = pd.read_excel(\n",
    "    r\"C:\\\\Users\\pedro\\Projects\\ims_bootcamp\\data\\Telco_customer_churn_services.xlsx\")\n",
    "\n",
    "df_status = pd.read_excel(\n",
    "    r\"C:\\\\Users\\pedro\\Projects\\ims_bootcamp\\data\\Telco_customer_churn_status.xlsx\")"
   ]
  },
  {
   "cell_type": "code",
   "execution_count": 4,
   "id": "a7b13af5",
   "metadata": {},
   "outputs": [
    {
     "name": "stdout",
     "output_type": "stream",
     "text": [
      "Total number of rows: 7043\n",
      "Unique Customer ID: 7043\n"
     ]
    }
   ],
   "source": [
    "print(f\"Total number of rows: {df_demographics.shape[0]}\")\n",
    "print(f\"Unique Customer ID: {df_demographics['Customer ID'].nunique()}\")"
   ]
  },
  {
   "cell_type": "code",
   "execution_count": 6,
   "id": "15686aa4",
   "metadata": {},
   "outputs": [
    {
     "name": "stdout",
     "output_type": "stream",
     "text": [
      "Count\n",
      "1    7043\n",
      "Name: count, dtype: int64\n",
      "Gender\n",
      "Male      3555\n",
      "Female    3488\n",
      "Name: count, dtype: int64\n",
      "Under 30\n",
      "No     5642\n",
      "Yes    1401\n",
      "Name: count, dtype: int64\n",
      "Senior Citizen\n",
      "No     5901\n",
      "Yes    1142\n",
      "Name: count, dtype: int64\n",
      "Married\n",
      "No     3641\n",
      "Yes    3402\n",
      "Name: count, dtype: int64\n",
      "Dependents\n",
      "No     5416\n",
      "Yes    1627\n",
      "Name: count, dtype: int64\n",
      "Number of Dependents\n",
      "0    5416\n",
      "1     553\n",
      "2     531\n",
      "3     517\n",
      "5      10\n",
      "4       9\n",
      "6       3\n",
      "7       2\n",
      "8       1\n",
      "9       1\n",
      "Name: count, dtype: int64\n"
     ]
    }
   ],
   "source": [
    "print(df_demographics['Count'].value_counts())\n",
    "print(df_demographics['Gender'].value_counts())\n",
    "print(df_demographics['Under 30'].value_counts())\n",
    "print(df_demographics['Senior Citizen'].value_counts())\n",
    "print(df_demographics['Married'].value_counts())\n",
    "print(df_demographics['Dependents'].value_counts())\n",
    "print(df_demographics['Number of Dependents'].value_counts())"
   ]
  },
  {
   "cell_type": "code",
   "execution_count": 7,
   "id": "2c06255b",
   "metadata": {},
   "outputs": [
    {
     "data": {
      "text/plain": [
       "Customer ID             0\n",
       "Count                   0\n",
       "Gender                  0\n",
       "Age                     0\n",
       "Under 30                0\n",
       "Senior Citizen          0\n",
       "Married                 0\n",
       "Dependents              0\n",
       "Number of Dependents    0\n",
       "dtype: int64"
      ]
     },
     "execution_count": 7,
     "metadata": {},
     "output_type": "execute_result"
    }
   ],
   "source": [
    "df_demographics.isna().sum()"
   ]
  }
 ],
 "metadata": {
  "kernelspec": {
   "display_name": ".venv",
   "language": "python",
   "name": "python3"
  },
  "language_info": {
   "codemirror_mode": {
    "name": "ipython",
    "version": 3
   },
   "file_extension": ".py",
   "mimetype": "text/x-python",
   "name": "python",
   "nbconvert_exporter": "python",
   "pygments_lexer": "ipython3",
   "version": "3.13.7"
  }
 },
 "nbformat": 4,
 "nbformat_minor": 5
}
